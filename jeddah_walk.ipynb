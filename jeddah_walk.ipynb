{
  "nbformat": 4,
  "nbformat_minor": 0,
  "metadata": {
    "colab": {
      "name": "jeddah_walk.ipynb",
      "provenance": [],
      "collapsed_sections": [],
      "machine_shape": "hm",
      "include_colab_link": true
    },
    "kernelspec": {
      "name": "python3",
      "display_name": "Python 3"
    },
    "language_info": {
      "name": "python"
    },
    "accelerator": "GPU"
  },
  "cells": [
    {
      "cell_type": "markdown",
      "metadata": {
        "id": "view-in-github",
        "colab_type": "text"
      },
      "source": [
        "<a href=\"https://colab.research.google.com/github/sagihaider/ArabicSentimentAnalysis_HuggingFace/blob/main/jeddah_walk.ipynb\" target=\"_parent\"><img src=\"https://colab.research.google.com/assets/colab-badge.svg\" alt=\"Open In Colab\"/></a>"
      ]
    },
    {
      "cell_type": "code",
      "execution_count": null,
      "metadata": {
        "id": "bZcSWP8xdGpo"
      },
      "outputs": [],
      "source": [
        "!pip install transformers"
      ]
    },
    {
      "cell_type": "code",
      "metadata": {
        "id": "_lTXsMK3sNYr"
      },
      "source": [
        "import os\n",
        "import re\n",
        "from tqdm import tqdm\n",
        "import numpy as np\n",
        "import pandas as pd\n",
        "import matplotlib.pyplot as plt\n",
        "\n",
        "%matplotlib inline"
      ],
      "execution_count": null,
      "outputs": []
    },
    {
      "cell_type": "code",
      "source": [
        "import pandas as pd\n",
        "test_data4 = pd.read_csv('/content/jeddahcolorwalk.csv')\n",
        "df4 = pd.DataFrame()\n",
        "df4['id'] = test_data4['author_id']\n",
        "df4['tweet'] = test_data4['text']\n",
        "# Load test data\n",
        "# test_data = pd.read_csv('/content/Arabic_Text1.csv')\n",
        "\n",
        "# Keep important columns\n",
        "test_data4 = df4[['id', 'tweet']]\n",
        "\n",
        "# Display 5 samples from the test data\n",
        "test_data4"
      ],
      "metadata": {
        "id": "86XH2x5TFnQ3"
      },
      "execution_count": null,
      "outputs": []
    },
    {
      "cell_type": "code",
      "source": [
        "import pandas as pd\n",
        "test_data3 = pd.read_csv('/content/Jeddah_Colorwalk.csv')\n",
        "df3 = pd.DataFrame()\n",
        "df3['id'] = test_data3['author_id']\n",
        "df3['tweet'] = test_data3['text']\n",
        "# Load test data\n",
        "# test_data = pd.read_csv('/content/Arabic_Text1.csv')\n",
        "\n",
        "# Keep important columns\n",
        "test_data3 = df3[['id', 'tweet']]\n",
        "\n",
        "# Display 5 samples from the test data\n",
        "test_data3.sample(5)"
      ],
      "metadata": {
        "id": "PgZGq1NvGUYQ"
      },
      "execution_count": null,
      "outputs": []
    },
    {
      "cell_type": "code",
      "source": [
        "from transformers import pipeline\n",
        "sa = pipeline('text-classification', model='cardiffnlp/twitter-roberta-base-sentiment')\n",
        "sequences = df3.tweet.values\n",
        "res = []\n",
        "sco = []\n",
        "for sequence in sequences:\n",
        "  sentences =sequence\n",
        "  print(sa(sentences))\n",
        "  res.append(sa(sentences)[0]['label'])\n",
        "  sco.append(sa(sentences)[0]['score'])\n"
      ],
      "metadata": {
        "id": "QIV-uvMrFHqO"
      },
      "execution_count": null,
      "outputs": []
    },
    {
      "cell_type": "code",
      "source": [
        "sequences = df4.tweet.values\n",
        "\n",
        "for sequence in sequences:\n",
        "  sentences =sequence\n",
        "  print(sa(sentences))\n",
        "  res.append(sa(sentences)[0]['label'])\n",
        "  sco.append(sa(sentences)[0]['score'])"
      ],
      "metadata": {
        "id": "VeBlQTE_S5-W"
      },
      "execution_count": null,
      "outputs": []
    },
    {
      "cell_type": "code",
      "source": [
        "test_data3 = pd.read_csv('/content/Jeddah_Colorwalk.csv')\n",
        "test_data4 = pd.read_csv('/content/jeddahcolorwalk.csv')\n",
        "eng_frame = [test_data3, test_data4]\n",
        "eng_result = pd.concat(eng_frame)\n",
        "eng_result['sentiment'] = res\n",
        "eng_result['confidence'] = sco\n",
        "eng_result.reset_index"
      ],
      "metadata": {
        "id": "BOYjyAJtTtg-"
      },
      "execution_count": null,
      "outputs": []
    },
    {
      "cell_type": "code",
      "source": [
        "eng_result['sentiment'] = eng_result['sentiment'].apply(lambda x: 'positive' if x == 'LABEL_1' else 'neutral')"
      ],
      "metadata": {
        "id": "MMy8IhciHW_j"
      },
      "execution_count": null,
      "outputs": []
    },
    {
      "cell_type": "code",
      "source": [
        "eng_result"
      ],
      "metadata": {
        "id": "tIZDp2fBJp4h"
      },
      "execution_count": null,
      "outputs": []
    },
    {
      "cell_type": "code",
      "source": [
        "import pandas as pd\n",
        "test_data = pd.read_csv('/content/Arabic_Text1.csv')\n",
        "df = pd.DataFrame()\n",
        "df['id'] = test_data['author_id']\n",
        "df['tweet'] = test_data['text']\n",
        "\n",
        "\n",
        "# Keep important columns\n",
        "test_data = df[['id', 'tweet']]\n",
        "\n",
        "# Display 5 samples from the test data\n",
        "test_data.sample(5)\n",
        "\n",
        "\n",
        "test_data2 = pd.read_csv('/content/Arabic_Text2.csv')\n",
        "df2 = pd.DataFrame()\n",
        "df2['id'] = test_data2['author_id']\n",
        "df2['tweet'] = test_data2['text']\n",
        "\n",
        "# Keep important columns\n",
        "test_data2 = df2[['id', 'tweet']]\n",
        "\n",
        "\n",
        "# arabert_prep = ArabertPreprocessor(model_name=model_name)\n",
        "# df.tweet = arabert_prep.preprocess(df.tweet.values)\n",
        "from transformers import pipeline\n",
        "\n",
        "sequences = df.tweet.values\n",
        "\n",
        "sa = pipeline('text-classification', model='CAMeL-Lab/bert-base-arabic-camelbert-mix-sentiment')\n",
        "# sa = pipeline('text-classification', model='aubmindlab/bert-base-arabertv02-twitter')\n",
        "res = []\n",
        "sco = []\n",
        "for sequence in sequences:\n",
        "  sentences = sequence\n",
        "  res.append(sa(sentences)[0]['label'])\n",
        "  sco.append(sa(sentences)[0]['score'])"
      ],
      "metadata": {
        "id": "ZbAWgLHoVzxm"
      },
      "execution_count": null,
      "outputs": []
    },
    {
      "cell_type": "code",
      "source": [
        "sequences = df2.tweet.values\n",
        "sa = pipeline('text-classification', model='CAMeL-Lab/bert-base-arabic-camelbert-mix-sentiment')\n",
        "# sa = pipeline('text-classification', model='aubmindlab/bert-base-arabertv02-twitter')\n",
        "\n",
        "for sequence in sequences:\n",
        "  sentences = sequence\n",
        "  res.append(sa(sentences)[0]['label'])\n",
        "  sco.append(sa(sentences)[0]['score'])"
      ],
      "metadata": {
        "id": "kTzZyS9RWSLs"
      },
      "execution_count": null,
      "outputs": []
    },
    {
      "cell_type": "code",
      "source": [
        "test_data = pd.read_csv('/content/Arabic_Text1.csv')\n",
        "test_data2 = pd.read_csv('/content/Arabic_Text2.csv')\n",
        "arabic_frame = [test_data, test_data2]\n",
        "arabic_result = pd.concat(arabic_frame)\n",
        "arabic_result['sentiment'] = res\n",
        "arabic_result['confidence'] = sco\n",
        "arabic_result.reset_index\n",
        "# arabic_result.to_pickle(\"/content/drive/MyDrive/Essex/arabic_result.pkl\")"
      ],
      "metadata": {
        "id": "u0TwIO4WXxpk"
      },
      "execution_count": null,
      "outputs": []
    },
    {
      "cell_type": "code",
      "source": [
        "merged_frame = [eng_result, arabic_result]\n",
        "merged_result = pd.concat(merged_frame)\n",
        "merged_result.reset_index\n",
        "merged_result[\"sentiment\"].value_counts()\n",
        "\n"
      ],
      "metadata": {
        "id": "sQZrlIQMX5j0"
      },
      "execution_count": null,
      "outputs": []
    },
    {
      "cell_type": "code",
      "source": [
        "merged_result.to_csv(\"./merged.csv\")"
      ],
      "metadata": {
        "id": "o9ETQo8Br6_O"
      },
      "execution_count": null,
      "outputs": []
    }
  ]
}